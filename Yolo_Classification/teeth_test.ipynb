{
 "cells": [
  {
   "cell_type": "code",
   "execution_count": 4,
   "id": "3a4e5739",
   "metadata": {},
   "outputs": [],
   "source": [
    "import tensorflow as tf\n",
    "import numpy as np\n",
    "from ultralytics import YOLO"
   ]
  },
  {
   "cell_type": "code",
   "execution_count": 17,
   "id": "351aba8a",
   "metadata": {},
   "outputs": [
    {
     "name": "stdout",
     "output_type": "stream",
     "text": [
      "\n",
      "Loading model from E:\\Computer Vision\\Cellula Tech\\Task 2\\runs\\classify\\train\\weights\\best.pt ...\n",
      "YOLOv8n-cls summary: 56 layers, 1,447,255 parameters, 0 gradients, 3.4 GFLOPs\n"
     ]
    },
    {
     "data": {
      "text/plain": [
       "(56, 1447255, 0, 3.3671168000000002)"
      ]
     },
     "execution_count": 17,
     "metadata": {},
     "output_type": "execute_result"
    }
   ],
   "source": [
    "model_path = \"E:\\\\Computer Vision\\\\Cellula Tech\\\\Task 2\\\\runs\\\\classify\\\\train\\\\weights\\\\best.pt\"   # change to your file path\n",
    "print(f\"\\nLoading model from {model_path} ...\")\n",
    "model = YOLO(model_path)   # Load YOLO model\n",
    "model.info()\n"
   ]
  },
  {
   "cell_type": "code",
   "execution_count": null,
   "id": "7da1c6ff",
   "metadata": {},
   "outputs": [
    {
     "name": "stdout",
     "output_type": "stream",
     "text": [
      "\n",
      "image 1/1 E:\\Computer Vision\\Cellula Tech\\Task 2\\sample\\p_1231_0_4814.jpg: 224x224 OLP 1.00, OC 0.00, MC 0.00, CaS 0.00, CoS 0.00, 11.5ms\n",
      "Speed: 3.0ms preprocess, 11.5ms inference, 0.1ms postprocess per image at shape (1, 3, 224, 224)\n",
      "Results saved to \u001b[1mE:\\Computer Vision\\Cellula Tech\\Task 2\\runs\\classify\\predict2\u001b[0m\n",
      "Predicted label: OLP (confidence: 1.00)\n"
     ]
    }
   ],
   "source": [
    "results = model.predict(r\"E:\\\\Computer Vision\\\\Cellula Tech\\\\Task 2\\\\sample\\\\p_1231_0_4814.jpg\", save=True)\n",
    "\n",
    "\n",
    "\n",
    "for r in results:\n",
    "    probs = r.probs  # classification probabilities\n",
    "    top1 = probs.top1  # best class index\n",
    "    conf = probs.top1conf.item()  # confidence score\n",
    "    label = model.names[top1]  # class name\n",
    "    print(f\"Predicted label: {label} (confidence: {conf:.2f})\")"
   ]
  },
  {
   "cell_type": "code",
   "execution_count": null,
   "id": "5d823feb",
   "metadata": {},
   "outputs": [],
   "source": []
  }
 ],
 "metadata": {
  "kernelspec": {
   "display_name": "cellulla_tensor",
   "language": "python",
   "name": "python3"
  },
  "language_info": {
   "codemirror_mode": {
    "name": "ipython",
    "version": 3
   },
   "file_extension": ".py",
   "mimetype": "text/x-python",
   "name": "python",
   "nbconvert_exporter": "python",
   "pygments_lexer": "ipython3",
   "version": "3.10.18"
  }
 },
 "nbformat": 4,
 "nbformat_minor": 5
}
