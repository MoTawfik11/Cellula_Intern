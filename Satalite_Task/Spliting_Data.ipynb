{
 "cells": [
  {
   "cell_type": "code",
   "execution_count": 1,
   "id": "8c7f7258",
   "metadata": {},
   "outputs": [],
   "source": [
    "import os\n",
    "import shutil\n",
    "import random\n",
    "from pathlib import Path"
   ]
  },
  {
   "cell_type": "code",
   "execution_count": 2,
   "id": "ef179a8a",
   "metadata": {},
   "outputs": [],
   "source": [
    "DATA_ROOT = Path(\"data\")   # change to your data folder\n",
    "IMG_DIR = DATA_ROOT / \"images\"   # contains .tif\n",
    "LBL_DIR = DATA_ROOT / \"labels\"   # contains .png\n",
    "\n",
    "TRAIN_IMG = DATA_ROOT / \"train/images\"\n",
    "TRAIN_LBL = DATA_ROOT / \"train/labels\"\n",
    "VAL_IMG = DATA_ROOT / \"val/images\"\n",
    "VAL_LBL = DATA_ROOT / \"val/labels\""
   ]
  },
  {
   "cell_type": "code",
   "execution_count": 3,
   "id": "71795c9c",
   "metadata": {},
   "outputs": [],
   "source": [
    "for d in [TRAIN_IMG, TRAIN_LBL, VAL_IMG, VAL_LBL]:\n",
    "    d.mkdir(parents=True, exist_ok=True)"
   ]
  },
  {
   "cell_type": "code",
   "execution_count": 4,
   "id": "40a4bc2a",
   "metadata": {},
   "outputs": [],
   "source": [
    "image_files = sorted(list(IMG_DIR.glob(\"*.tif\")))\n",
    "label_files = sorted(list(LBL_DIR.glob(\"*.png\")))"
   ]
  },
  {
   "cell_type": "code",
   "execution_count": 6,
   "id": "7e923c06",
   "metadata": {},
   "outputs": [
    {
     "name": "stdout",
     "output_type": "stream",
     "text": [
      "Found 306 matched pairs\n"
     ]
    }
   ],
   "source": [
    "img_dict = {f.stem: f for f in image_files}\n",
    "lbl_dict = {f.stem: f for f in label_files}\n",
    "\n",
    "common_keys = sorted(list(set(img_dict.keys()) & set(lbl_dict.keys())))\n",
    "print(f\"Found {len(common_keys)} matched pairs\")"
   ]
  },
  {
   "cell_type": "code",
   "execution_count": 7,
   "id": "d233a8be",
   "metadata": {},
   "outputs": [],
   "source": [
    "random.seed(42)  # reproducibility\n",
    "random.shuffle(common_keys)\n",
    "\n",
    "split_ratio = 0.8\n",
    "split_idx = int(len(common_keys) * split_ratio)\n",
    "\n",
    "train_keys = common_keys[:split_idx]\n",
    "val_keys = common_keys[split_idx:]\n",
    "\n",
    "def copy_pairs(keys, dest_img, dest_lbl):\n",
    "    for k in keys:\n",
    "        shutil.copy(img_dict[k], dest_img / f\"{k}.tif\")\n",
    "        shutil.copy(lbl_dict[k], dest_lbl / f\"{k}.png\")"
   ]
  },
  {
   "cell_type": "code",
   "execution_count": 8,
   "id": "048af500",
   "metadata": {},
   "outputs": [
    {
     "name": "stdout",
     "output_type": "stream",
     "text": [
      "Training set: 244 images\n",
      "Validation set: 62 images\n"
     ]
    }
   ],
   "source": [
    "copy_pairs(train_keys, TRAIN_IMG, TRAIN_LBL)\n",
    "copy_pairs(val_keys, VAL_IMG, VAL_LBL)\n",
    "\n",
    "print(f\"Training set: {len(train_keys)} images\")\n",
    "print(f\"Validation set: {len(val_keys)} images\")"
   ]
  }
 ],
 "metadata": {
  "kernelspec": {
   "display_name": "Python 3",
   "language": "python",
   "name": "python3"
  },
  "language_info": {
   "codemirror_mode": {
    "name": "ipython",
    "version": 3
   },
   "file_extension": ".py",
   "mimetype": "text/x-python",
   "name": "python",
   "nbconvert_exporter": "python",
   "pygments_lexer": "ipython3",
   "version": "3.10.11"
  }
 },
 "nbformat": 4,
 "nbformat_minor": 5
}
