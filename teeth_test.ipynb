{
 "cells": [
  {
   "cell_type": "code",
   "execution_count": 1,
   "id": "3a4e5739",
   "metadata": {},
   "outputs": [],
   "source": [
    "import tensorflow as tf\n",
    "import numpy as np"
   ]
  },
  {
   "cell_type": "code",
   "execution_count": 2,
   "id": "ae114f43",
   "metadata": {},
   "outputs": [
    {
     "name": "stdout",
     "output_type": "stream",
     "text": [
      "TensorFlow version: 2.17.0\n",
      "Built with CUDA: False\n",
      "Physical GPUs: []\n"
     ]
    }
   ],
   "source": [
    "print(\"TensorFlow version:\", tf.__version__)\n",
    "print(\"Built with CUDA:\", tf.test.is_built_with_cuda())\n",
    "print(\"Physical GPUs:\", tf.config.list_physical_devices(\"GPU\"))\n"
   ]
  },
  {
   "cell_type": "code",
   "execution_count": 3,
   "id": "351aba8a",
   "metadata": {},
   "outputs": [
    {
     "name": "stdout",
     "output_type": "stream",
     "text": [
      "\n",
      "Loading model from teeth_classification_model.h5 ...\n"
     ]
    },
    {
     "name": "stderr",
     "output_type": "stream",
     "text": [
      "WARNING:absl:Compiled the loaded model, but the compiled metrics have yet to be built. `model.compile_metrics` will be empty until you train or evaluate the model.\n"
     ]
    },
    {
     "data": {
      "text/html": [
       "<pre style=\"white-space:pre;overflow-x:auto;line-height:normal;font-family:Menlo,'DejaVu Sans Mono',consolas,'Courier New',monospace\"><span style=\"font-weight: bold\">Model: \"functional_3\"</span>\n",
       "</pre>\n"
      ],
      "text/plain": [
       "\u001b[1mModel: \"functional_3\"\u001b[0m\n"
      ]
     },
     "metadata": {},
     "output_type": "display_data"
    },
    {
     "data": {
      "text/html": [
       "<pre style=\"white-space:pre;overflow-x:auto;line-height:normal;font-family:Menlo,'DejaVu Sans Mono',consolas,'Courier New',monospace\">┏━━━━━━━━━━━━━━━━━━━━━━━━━━━━━━━━━┳━━━━━━━━━━━━━━━━━━━━━━━━┳━━━━━━━━━━━━━━━┓\n",
       "┃<span style=\"font-weight: bold\"> Layer (type)                    </span>┃<span style=\"font-weight: bold\"> Output Shape           </span>┃<span style=\"font-weight: bold\">       Param # </span>┃\n",
       "┡━━━━━━━━━━━━━━━━━━━━━━━━━━━━━━━━━╇━━━━━━━━━━━━━━━━━━━━━━━━╇━━━━━━━━━━━━━━━┩\n",
       "│ input_layer_8 (<span style=\"color: #0087ff; text-decoration-color: #0087ff\">InputLayer</span>)      │ (<span style=\"color: #00d7ff; text-decoration-color: #00d7ff\">None</span>, <span style=\"color: #00af00; text-decoration-color: #00af00\">224</span>, <span style=\"color: #00af00; text-decoration-color: #00af00\">224</span>, <span style=\"color: #00af00; text-decoration-color: #00af00\">3</span>)    │             <span style=\"color: #00af00; text-decoration-color: #00af00\">0</span> │\n",
       "├─────────────────────────────────┼────────────────────────┼───────────────┤\n",
       "│ sequential_1 (<span style=\"color: #0087ff; text-decoration-color: #0087ff\">Sequential</span>)       │ (<span style=\"color: #00d7ff; text-decoration-color: #00d7ff\">None</span>, <span style=\"color: #00af00; text-decoration-color: #00af00\">224</span>, <span style=\"color: #00af00; text-decoration-color: #00af00\">224</span>, <span style=\"color: #00af00; text-decoration-color: #00af00\">3</span>)    │             <span style=\"color: #00af00; text-decoration-color: #00af00\">0</span> │\n",
       "├─────────────────────────────────┼────────────────────────┼───────────────┤\n",
       "│ efficientnetb0 (<span style=\"color: #0087ff; text-decoration-color: #0087ff\">Functional</span>)     │ (<span style=\"color: #00d7ff; text-decoration-color: #00d7ff\">None</span>, <span style=\"color: #00af00; text-decoration-color: #00af00\">7</span>, <span style=\"color: #00af00; text-decoration-color: #00af00\">7</span>, <span style=\"color: #00af00; text-decoration-color: #00af00\">1280</span>)     │     <span style=\"color: #00af00; text-decoration-color: #00af00\">4,049,571</span> │\n",
       "├─────────────────────────────────┼────────────────────────┼───────────────┤\n",
       "│ global_average_pooling2d_1      │ (<span style=\"color: #00d7ff; text-decoration-color: #00d7ff\">None</span>, <span style=\"color: #00af00; text-decoration-color: #00af00\">1280</span>)           │             <span style=\"color: #00af00; text-decoration-color: #00af00\">0</span> │\n",
       "│ (<span style=\"color: #0087ff; text-decoration-color: #0087ff\">GlobalAveragePooling2D</span>)        │                        │               │\n",
       "├─────────────────────────────────┼────────────────────────┼───────────────┤\n",
       "│ dropout_1 (<span style=\"color: #0087ff; text-decoration-color: #0087ff\">Dropout</span>)             │ (<span style=\"color: #00d7ff; text-decoration-color: #00d7ff\">None</span>, <span style=\"color: #00af00; text-decoration-color: #00af00\">1280</span>)           │             <span style=\"color: #00af00; text-decoration-color: #00af00\">0</span> │\n",
       "├─────────────────────────────────┼────────────────────────┼───────────────┤\n",
       "│ dense_1 (<span style=\"color: #0087ff; text-decoration-color: #0087ff\">Dense</span>)                 │ (<span style=\"color: #00d7ff; text-decoration-color: #00d7ff\">None</span>, <span style=\"color: #00af00; text-decoration-color: #00af00\">7</span>)              │         <span style=\"color: #00af00; text-decoration-color: #00af00\">8,967</span> │\n",
       "└─────────────────────────────────┴────────────────────────┴───────────────┘\n",
       "</pre>\n"
      ],
      "text/plain": [
       "┏━━━━━━━━━━━━━━━━━━━━━━━━━━━━━━━━━┳━━━━━━━━━━━━━━━━━━━━━━━━┳━━━━━━━━━━━━━━━┓\n",
       "┃\u001b[1m \u001b[0m\u001b[1mLayer (type)                   \u001b[0m\u001b[1m \u001b[0m┃\u001b[1m \u001b[0m\u001b[1mOutput Shape          \u001b[0m\u001b[1m \u001b[0m┃\u001b[1m \u001b[0m\u001b[1m      Param #\u001b[0m\u001b[1m \u001b[0m┃\n",
       "┡━━━━━━━━━━━━━━━━━━━━━━━━━━━━━━━━━╇━━━━━━━━━━━━━━━━━━━━━━━━╇━━━━━━━━━━━━━━━┩\n",
       "│ input_layer_8 (\u001b[38;5;33mInputLayer\u001b[0m)      │ (\u001b[38;5;45mNone\u001b[0m, \u001b[38;5;34m224\u001b[0m, \u001b[38;5;34m224\u001b[0m, \u001b[38;5;34m3\u001b[0m)    │             \u001b[38;5;34m0\u001b[0m │\n",
       "├─────────────────────────────────┼────────────────────────┼───────────────┤\n",
       "│ sequential_1 (\u001b[38;5;33mSequential\u001b[0m)       │ (\u001b[38;5;45mNone\u001b[0m, \u001b[38;5;34m224\u001b[0m, \u001b[38;5;34m224\u001b[0m, \u001b[38;5;34m3\u001b[0m)    │             \u001b[38;5;34m0\u001b[0m │\n",
       "├─────────────────────────────────┼────────────────────────┼───────────────┤\n",
       "│ efficientnetb0 (\u001b[38;5;33mFunctional\u001b[0m)     │ (\u001b[38;5;45mNone\u001b[0m, \u001b[38;5;34m7\u001b[0m, \u001b[38;5;34m7\u001b[0m, \u001b[38;5;34m1280\u001b[0m)     │     \u001b[38;5;34m4,049,571\u001b[0m │\n",
       "├─────────────────────────────────┼────────────────────────┼───────────────┤\n",
       "│ global_average_pooling2d_1      │ (\u001b[38;5;45mNone\u001b[0m, \u001b[38;5;34m1280\u001b[0m)           │             \u001b[38;5;34m0\u001b[0m │\n",
       "│ (\u001b[38;5;33mGlobalAveragePooling2D\u001b[0m)        │                        │               │\n",
       "├─────────────────────────────────┼────────────────────────┼───────────────┤\n",
       "│ dropout_1 (\u001b[38;5;33mDropout\u001b[0m)             │ (\u001b[38;5;45mNone\u001b[0m, \u001b[38;5;34m1280\u001b[0m)           │             \u001b[38;5;34m0\u001b[0m │\n",
       "├─────────────────────────────────┼────────────────────────┼───────────────┤\n",
       "│ dense_1 (\u001b[38;5;33mDense\u001b[0m)                 │ (\u001b[38;5;45mNone\u001b[0m, \u001b[38;5;34m7\u001b[0m)              │         \u001b[38;5;34m8,967\u001b[0m │\n",
       "└─────────────────────────────────┴────────────────────────┴───────────────┘\n"
      ]
     },
     "metadata": {},
     "output_type": "display_data"
    },
    {
     "data": {
      "text/html": [
       "<pre style=\"white-space:pre;overflow-x:auto;line-height:normal;font-family:Menlo,'DejaVu Sans Mono',consolas,'Courier New',monospace\"><span style=\"font-weight: bold\"> Total params: </span><span style=\"color: #00af00; text-decoration-color: #00af00\">4,058,540</span> (15.48 MB)\n",
       "</pre>\n"
      ],
      "text/plain": [
       "\u001b[1m Total params: \u001b[0m\u001b[38;5;34m4,058,540\u001b[0m (15.48 MB)\n"
      ]
     },
     "metadata": {},
     "output_type": "display_data"
    },
    {
     "data": {
      "text/html": [
       "<pre style=\"white-space:pre;overflow-x:auto;line-height:normal;font-family:Menlo,'DejaVu Sans Mono',consolas,'Courier New',monospace\"><span style=\"font-weight: bold\"> Trainable params: </span><span style=\"color: #00af00; text-decoration-color: #00af00\">4,016,515</span> (15.32 MB)\n",
       "</pre>\n"
      ],
      "text/plain": [
       "\u001b[1m Trainable params: \u001b[0m\u001b[38;5;34m4,016,515\u001b[0m (15.32 MB)\n"
      ]
     },
     "metadata": {},
     "output_type": "display_data"
    },
    {
     "data": {
      "text/html": [
       "<pre style=\"white-space:pre;overflow-x:auto;line-height:normal;font-family:Menlo,'DejaVu Sans Mono',consolas,'Courier New',monospace\"><span style=\"font-weight: bold\"> Non-trainable params: </span><span style=\"color: #00af00; text-decoration-color: #00af00\">42,023</span> (164.16 KB)\n",
       "</pre>\n"
      ],
      "text/plain": [
       "\u001b[1m Non-trainable params: \u001b[0m\u001b[38;5;34m42,023\u001b[0m (164.16 KB)\n"
      ]
     },
     "metadata": {},
     "output_type": "display_data"
    },
    {
     "data": {
      "text/html": [
       "<pre style=\"white-space:pre;overflow-x:auto;line-height:normal;font-family:Menlo,'DejaVu Sans Mono',consolas,'Courier New',monospace\"><span style=\"font-weight: bold\"> Optimizer params: </span><span style=\"color: #00af00; text-decoration-color: #00af00\">2</span> (12.00 B)\n",
       "</pre>\n"
      ],
      "text/plain": [
       "\u001b[1m Optimizer params: \u001b[0m\u001b[38;5;34m2\u001b[0m (12.00 B)\n"
      ]
     },
     "metadata": {},
     "output_type": "display_data"
    }
   ],
   "source": [
    "model_path = \"teeth_classification_model.h5\"   # change to your file path\n",
    "print(f\"\\nLoading model from {model_path} ...\")\n",
    "model = tf.keras.models.load_model(model_path)\n",
    "model.summary()"
   ]
  },
  {
   "cell_type": "code",
   "execution_count": 18,
   "id": "83e6acee",
   "metadata": {},
   "outputs": [],
   "source": [
    "test_dir = \"E:\\\\Computer Vision\\\\Cellula Tech\\\\Task 1\\\\Teeth_Dataset\\\\test\\\\sample\"   # change to your folder with photos\n",
    "img_size = (224, 224)      # resize to your model input size"
   ]
  },
  {
   "cell_type": "code",
   "execution_count": 19,
   "id": "417cc8a6",
   "metadata": {},
   "outputs": [],
   "source": [
    "import os\n",
    "import cv2"
   ]
  },
  {
   "cell_type": "code",
   "execution_count": 20,
   "id": "7da1c6ff",
   "metadata": {},
   "outputs": [
    {
     "name": "stdout",
     "output_type": "stream",
     "text": [
      "\n",
      "📷 a_113.jpg\n",
      "Raw output: [[0.0000000e+00 0.0000000e+00 1.0000000e+00 0.0000000e+00 3.2662204e-35\n",
      "  0.0000000e+00 0.0000000e+00]]\n",
      "Predicted class: Gum\n",
      "\n",
      "📷 a_98_0_8854.jpg\n",
      "Raw output: [[0.0000000e+00 0.0000000e+00 1.0000000e+00 0.0000000e+00 4.7835535e-34\n",
      "  0.0000000e+00 0.0000000e+00]]\n",
      "Predicted class: Gum\n",
      "\n",
      "📷 b_109_0_9984.jpg\n",
      "Raw output: [[0.0000000e+00 0.0000000e+00 1.0000000e+00 0.0000000e+00 1.8904008e-35\n",
      "  0.0000000e+00 0.0000000e+00]]\n",
      "Predicted class: Gum\n",
      "\n",
      "📷 b_109_0_9994.jpg\n",
      "Raw output: [[0.0000000e+00 0.0000000e+00 1.0000000e+00 0.0000000e+00 4.9565637e-36\n",
      "  0.0000000e+00 0.0000000e+00]]\n",
      "Predicted class: Gum\n",
      "\n",
      "📷 b_112_0_8064.jpg\n",
      "Raw output: [[0.0000000e+00 0.0000000e+00 1.0000000e+00 0.0000000e+00 3.4780517e-36\n",
      "  0.0000000e+00 0.0000000e+00]]\n",
      "Predicted class: Gum\n",
      "\n",
      "📷 b_120.jpg\n",
      "Raw output: [[0.0000000e+00 0.0000000e+00 1.0000000e+00 0.0000000e+00 1.1331415e-35\n",
      "  0.0000000e+00 0.0000000e+00]]\n",
      "Predicted class: Gum\n",
      "\n",
      "📷 g_1219_0_3259.jpg\n",
      "Raw output: [[0.000000e+00 0.000000e+00 1.000000e+00 0.000000e+00 5.413014e-35\n",
      "  0.000000e+00 0.000000e+00]]\n",
      "Predicted class: Gum\n",
      "\n",
      "📷 g_1224.jpg\n",
      "Raw output: [[0.00000000e+00 0.00000000e+00 1.00000000e+00 0.00000000e+00\n",
      "  1.13379006e-35 0.00000000e+00 0.00000000e+00]]\n",
      "Predicted class: Gum\n",
      "\n",
      "📷 g_1231.jpg\n",
      "Raw output: [[0.0000000e+00 0.0000000e+00 1.0000000e+00 0.0000000e+00 2.9605127e-36\n",
      "  0.0000000e+00 0.0000000e+00]]\n",
      "Predicted class: Gum\n",
      "\n",
      "📷 g_1233_0_855.jpg\n",
      "Raw output: [[0.000000e+00 0.000000e+00 1.000000e+00 0.000000e+00 2.717394e-35\n",
      "  0.000000e+00 0.000000e+00]]\n",
      "Predicted class: Gum\n",
      "\n",
      "📷 mc_1215_0_6826.jpg\n",
      "Raw output: [[0.0000000e+00 0.0000000e+00 1.0000000e+00 0.0000000e+00 1.0856285e-34\n",
      "  0.0000000e+00 0.0000000e+00]]\n",
      "Predicted class: Gum\n",
      "\n",
      "📷 mc_1223_0_1037.jpg\n",
      "Raw output: [[0.0000000e+00 0.0000000e+00 1.0000000e+00 0.0000000e+00 2.4438608e-35\n",
      "  0.0000000e+00 0.0000000e+00]]\n",
      "Predicted class: Gum\n",
      "\n",
      "📷 mc_1223_0_5721.jpg\n",
      "Raw output: [[0.0000000e+00 0.0000000e+00 1.0000000e+00 0.0000000e+00 4.4805524e-34\n",
      "  0.0000000e+00 0.0000000e+00]]\n",
      "Predicted class: Gum\n",
      "\n",
      "📷 mc_1228_0_8011.jpg\n",
      "Raw output: [[0.0000000e+00 0.0000000e+00 1.0000000e+00 0.0000000e+00 1.6107401e-35\n",
      "  0.0000000e+00 0.0000000e+00]]\n",
      "Predicted class: Gum\n",
      "\n",
      "📷 oc_1214_0_3926.jpg\n",
      "Raw output: [[0.000000e+00 0.000000e+00 1.000000e+00 0.000000e+00 8.927266e-37\n",
      "  0.000000e+00 0.000000e+00]]\n",
      "Predicted class: Gum\n",
      "\n",
      "📷 oc_1215_0_4386.jpg\n",
      "Raw output: [[0.000000e+00 0.000000e+00 1.000000e+00 0.000000e+00 9.622604e-37\n",
      "  0.000000e+00 0.000000e+00]]\n",
      "Predicted class: Gum\n",
      "\n",
      "📷 oc_1215_0_882.jpg\n",
      "Raw output: [[0.0000000e+00 0.0000000e+00 1.0000000e+00 0.0000000e+00 1.0003143e-35\n",
      "  0.0000000e+00 0.0000000e+00]]\n",
      "Predicted class: Gum\n",
      "\n",
      "📷 oc_1222_0_3151.jpg\n",
      "Raw output: [[0.0000000e+00 0.0000000e+00 1.0000000e+00 0.0000000e+00 1.2558477e-36\n",
      "  0.0000000e+00 0.0000000e+00]]\n",
      "Predicted class: Gum\n",
      "\n",
      "📷 ot_1213_0_2273.jpg\n",
      "Raw output: [[0.0000000e+00 0.0000000e+00 1.0000000e+00 0.0000000e+00 3.9435256e-36\n",
      "  0.0000000e+00 0.0000000e+00]]\n",
      "Predicted class: Gum\n",
      "\n",
      "📷 ot_1220_0_5828.jpg\n",
      "Raw output: [[0.0000000e+00 0.0000000e+00 1.0000000e+00 0.0000000e+00 2.0802652e-36\n",
      "  0.0000000e+00 0.0000000e+00]]\n",
      "Predicted class: Gum\n",
      "\n",
      "📷 ot_1220_0_5888.jpg\n",
      "Raw output: [[0.0000000e+00 0.0000000e+00 1.0000000e+00 0.0000000e+00 1.9948713e-36\n",
      "  0.0000000e+00 0.0000000e+00]]\n",
      "Predicted class: Gum\n",
      "\n",
      "📷 ot_1221_0_3747.jpg\n",
      "Raw output: [[0.0000000e+00 0.0000000e+00 1.0000000e+00 0.0000000e+00 6.9669815e-36\n",
      "  0.0000000e+00 0.0000000e+00]]\n",
      "Predicted class: Gum\n",
      "\n",
      "📷 ot_1233.jpg\n",
      "Raw output: [[0.0000000e+00 0.0000000e+00 1.0000000e+00 0.0000000e+00 5.3037194e-36\n",
      "  0.0000000e+00 0.0000000e+00]]\n",
      "Predicted class: Gum\n",
      "\n",
      "📷 ot_1233_0_9407.jpg\n",
      "Raw output: [[0.0000000e+00 0.0000000e+00 1.0000000e+00 0.0000000e+00 1.8342752e-34\n",
      "  0.0000000e+00 0.0000000e+00]]\n",
      "Predicted class: Gum\n",
      "\n",
      "📷 ot_1238_0_1141.jpg\n",
      "Raw output: [[0.000000e+00 0.000000e+00 1.000000e+00 0.000000e+00 8.944009e-36\n",
      "  0.000000e+00 0.000000e+00]]\n",
      "Predicted class: Gum\n",
      "\n",
      "📷 ot_1238_0_1380.jpg\n",
      "Raw output: [[0.0000000e+00 0.0000000e+00 1.0000000e+00 0.0000000e+00 1.2655871e-35\n",
      "  0.0000000e+00 0.0000000e+00]]\n",
      "Predicted class: Gum\n",
      "\n",
      "📷 p_1222_0_1847.jpg\n",
      "Raw output: [[0.0000000e+00 0.0000000e+00 1.0000000e+00 0.0000000e+00 6.6660505e-35\n",
      "  0.0000000e+00 0.0000000e+00]]\n",
      "Predicted class: Gum\n",
      "\n",
      "📷 p_1230_0_4424.jpg\n",
      "Raw output: [[0.000000e+00 0.000000e+00 1.000000e+00 0.000000e+00 8.875594e-35\n",
      "  0.000000e+00 0.000000e+00]]\n",
      "Predicted class: Gum\n",
      "\n",
      "📷 p_1231_0_4814.jpg\n",
      "Raw output: [[0.000000e+00 0.000000e+00 1.000000e+00 0.000000e+00 8.480207e-35\n",
      "  0.000000e+00 0.000000e+00]]\n",
      "Predicted class: Gum\n",
      "\n",
      "📷 p_1231_0_4993.jpg\n",
      "Raw output: [[0.0000000e+00 0.0000000e+00 1.0000000e+00 0.0000000e+00 9.2006144e-35\n",
      "  0.0000000e+00 0.0000000e+00]]\n",
      "Predicted class: Gum\n"
     ]
    }
   ],
   "source": [
    "# Assuming you used train_ds.class_names during training:\n",
    "class_names = [\"CaS\", \"CoS\", \"Gum\", \"MC\", \"OC\", \"OLP\", \"OT\"]  # update with real names\n",
    "\n",
    "for filename in os.listdir(test_dir):\n",
    "    if filename.lower().endswith((\".jpg\", \".jpeg\", \".png\")):\n",
    "        img_path = os.path.join(test_dir, filename)\n",
    "\n",
    "        img = cv2.imread(img_path)\n",
    "        img = cv2.cvtColor(img, cv2.COLOR_BGR2RGB)\n",
    "        img_resized = cv2.resize(img, img_size)\n",
    "        img_array = np.expand_dims(img_resized, axis=0).astype(np.float32) / 255.0\n",
    "\n",
    "        pred = model.predict(img_array, verbose=0)\n",
    "        pred_class = np.argmax(pred, axis=1)[0]   # get index of highest probability\n",
    "        pred_label = class_names[pred_class]\n",
    "\n",
    "        print(f\"\\n📷 {filename}\")\n",
    "        print(\"Raw output:\", pred)\n",
    "        print(\"Predicted class:\", pred_label)\n"
   ]
  },
  {
   "cell_type": "code",
   "execution_count": null,
   "id": "75e4a4f3",
   "metadata": {},
   "outputs": [],
   "source": []
  }
 ],
 "metadata": {
  "kernelspec": {
   "display_name": "cellulla_tensor",
   "language": "python",
   "name": "python3"
  },
  "language_info": {
   "codemirror_mode": {
    "name": "ipython",
    "version": 3
   },
   "file_extension": ".py",
   "mimetype": "text/x-python",
   "name": "python",
   "nbconvert_exporter": "python",
   "pygments_lexer": "ipython3",
   "version": "3.10.18"
  }
 },
 "nbformat": 4,
 "nbformat_minor": 5
}
